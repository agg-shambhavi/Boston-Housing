{
  "nbformat": 4,
  "nbformat_minor": 0,
  "metadata": {
    "colab": {
      "name": "Validation of features.ipynb",
      "provenance": [],
      "mount_file_id": "13ELyay3Cy86QoiukhU8fcoV3uI4lZSeY",
      "authorship_tag": "ABX9TyPKFJQQ9DzW9oggOWHHKEs0",
      "include_colab_link": true
    },
    "kernelspec": {
      "name": "python3",
      "display_name": "Python 3"
    },
    "language_info": {
      "name": "python"
    },
    "accelerator": "GPU"
  },
  "cells": [
    {
      "cell_type": "markdown",
      "metadata": {
        "id": "view-in-github",
        "colab_type": "text"
      },
      "source": [
        "<a href=\"https://colab.research.google.com/github/agg-shambhavi/Boston-Housing/blob/master/Validation_of_features.ipynb\" target=\"_parent\"><img src=\"https://colab.research.google.com/assets/colab-badge.svg\" alt=\"Open In Colab\"/></a>"
      ]
    },
    {
      "cell_type": "code",
      "execution_count": null,
      "metadata": {
        "id": "w0KE6bnLQykR"
      },
      "outputs": [],
      "source": [
        "import pandas as pd\n",
        "import numpy as np\n",
        "import os\n",
        "from sklearn.linear_model import LogisticRegression\n",
        "from sklearn.metrics import accuracy_score\n",
        "from sklearn.metrics import classification_report\n",
        "from sklearn.svm import SVC"
      ]
    },
    {
      "cell_type": "code",
      "source": [
        "x_train = pd.read_csv(\"/content/drive/MyDrive/Purdue/VQC Project/Code/final_data_cnn_ae/x_train.csv\")\n",
        "y_train = np.array(pd.read_csv(\"/content/drive/MyDrive/Purdue/VQC Project/Code/final_data_cnn_ae/y_train.csv\")).ravel()\n",
        "x_test = pd.read_csv(\"/content/drive/MyDrive/Purdue/VQC Project/Code/final_data_cnn_ae/x_test.csv\")\n",
        "y_test = np.array(pd.read_csv(\"/content/drive/MyDrive/Purdue/VQC Project/Code/final_data_cnn_ae/y_test.csv\")).ravel()"
      ],
      "metadata": {
        "id": "tlyB7q56SCQr"
      },
      "execution_count": null,
      "outputs": []
    },
    {
      "cell_type": "markdown",
      "source": [
        "## Logistic Regression"
      ],
      "metadata": {
        "id": "BF74Mi8qSlFk"
      }
    },
    {
      "cell_type": "code",
      "source": [
        "lreg = LogisticRegression(random_state=42)\n",
        "lreg.fit(x_train, y_train)\n",
        "\n",
        "y_train_pred = lreg.predict(x_train)\n",
        "y_test_pred = lreg.predict(x_test)"
      ],
      "metadata": {
        "id": "dGH1PqHsSkyf"
      },
      "execution_count": null,
      "outputs": []
    },
    {
      "cell_type": "code",
      "source": [
        "train_acc = accuracy_score(y_train, y_train_pred)\n",
        "\n",
        "test_acc = accuracy_score(y_test, y_test_pred)\n",
        "\n",
        "print(f\"Train accuracy: {train_acc}\")\n",
        "print(f\"Test accuracy: {test_acc}\")"
      ],
      "metadata": {
        "colab": {
          "base_uri": "https://localhost:8080/"
        },
        "id": "a5aZTKOgSjwV",
        "outputId": "09188c05-1225-4629-b820-922536ed255e"
      },
      "execution_count": null,
      "outputs": [
        {
          "output_type": "stream",
          "name": "stdout",
          "text": [
            "Train accuracy: 0.5262083049693669\n",
            "Test accuracy: 0.5370370370370371\n"
          ]
        }
      ]
    },
    {
      "cell_type": "code",
      "source": [
        "print(classification_report(y_test, y_test_pred))"
      ],
      "metadata": {
        "colab": {
          "base_uri": "https://localhost:8080/"
        },
        "id": "D3sYCPjM6wq4",
        "outputId": "265bd535-1530-4f5b-bb6f-6a7e9bc5ecba"
      },
      "execution_count": null,
      "outputs": [
        {
          "output_type": "stream",
          "name": "stdout",
          "text": [
            "              precision    recall  f1-score   support\n",
            "\n",
            "           0       0.54      0.63      0.58       956\n",
            "           1       0.54      0.44      0.49       934\n",
            "\n",
            "    accuracy                           0.54      1890\n",
            "   macro avg       0.54      0.54      0.53      1890\n",
            "weighted avg       0.54      0.54      0.53      1890\n",
            "\n"
          ]
        }
      ]
    },
    {
      "cell_type": "markdown",
      "source": [
        "## SVM"
      ],
      "metadata": {
        "id": "tdbWUXhb8qzl"
      }
    },
    {
      "cell_type": "code",
      "source": [
        "svm = SVC(kernel=\"rbf\", random_state=42)\n",
        "\n",
        "svm.fit(x_train, y_train)\n",
        "\n",
        "y_train_pred = svm.predict(x_train)\n",
        "y_test_pred = svm.predict(x_test)\n",
        "\n",
        "train_acc = accuracy_score(y_train, y_train_pred)\n",
        "test_acc = accuracy_score(y_test, y_test_pred)\n",
        "\n",
        "print(f\"Train accuracy: {train_acc}\")\n",
        "print(f\"Test accuracy: {test_acc}\")"
      ],
      "metadata": {
        "colab": {
          "base_uri": "https://localhost:8080/"
        },
        "id": "ow_sj33l72kH",
        "outputId": "4062988a-afa0-4cca-fe38-c8934d5abcfe"
      },
      "execution_count": null,
      "outputs": [
        {
          "output_type": "stream",
          "name": "stdout",
          "text": [
            "Train accuracy: 0.6317222600408441\n",
            "Test accuracy: 0.5841269841269842\n"
          ]
        }
      ]
    },
    {
      "cell_type": "code",
      "source": [
        "# imports\n",
        "import torch\n",
        "import torch.nn as nn\n",
        "import torch.optim as optim\n",
        "import torch.nn.functional as F\n",
        "from torch.utils.data import DataLoader\n",
        "import torchvision.transforms as transforms\n",
        "from torch.utils.data import Dataset"
      ],
      "metadata": {
        "id": "4ON6fwl5-DCZ"
      },
      "execution_count": null,
      "outputs": []
    },
    {
      "cell_type": "code",
      "source": [
        "device = torch.device(\"cuda\" if torch.cuda.is_available() else \"cpu\")\n",
        "\n",
        "# Hyper parameters\n",
        "input_size = 8\n",
        "num_classes = 2\n",
        "learning_rate = 0.001\n",
        "batch_size = 64\n",
        "num_epochs = 50"
      ],
      "metadata": {
        "id": "W4votnLJA-Ss"
      },
      "execution_count": null,
      "outputs": []
    },
    {
      "cell_type": "code",
      "source": [
        "# Create fully connected network\n",
        "class NN(nn.Module):\n",
        "    def __init__(self): # input_size= 28 x 28\n",
        "        super(NN, self).__init__()\n",
        "        self.fc1 = nn.Linear(8, 2)\n",
        "        self.fc2 = nn.Linear(2, 2)\n",
        "\n",
        "\n",
        "    def forward(self, x):\n",
        "        x = F.relu(self.fc1(x))\n",
        "        x = torch.sigmoid(self.fc2(x))\n",
        "        return x\n"
      ],
      "metadata": {
        "id": "_uA18iexA7y6"
      },
      "execution_count": null,
      "outputs": []
    },
    {
      "cell_type": "code",
      "source": [
        "class PCA_Feat(Dataset):\n",
        "    def __init__(self, x,y):\n",
        "        self.x = x.values.astype(np.float32)\n",
        "        self.y = y\n",
        "        self.length = len(y)\n",
        "\n",
        "    def __len__(self):\n",
        "        return self.length\n",
        "\n",
        "    def __getitem__(self, index):\n",
        "        x_item = torch.tensor(self.x[index])\n",
        "        y_item = torch.tensor(self.y[index])\n",
        "        \n",
        "        return (x_item,y_item)"
      ],
      "metadata": {
        "id": "sF-CJDzUA94Z"
      },
      "execution_count": null,
      "outputs": []
    },
    {
      "cell_type": "code",
      "source": [
        "# Load data\n",
        "train_dataset = PCA_Feat(x=x_train, y=y_train)\n",
        "train_loader = DataLoader( dataset=train_dataset, batch_size= batch_size)\n",
        "\n",
        "test_dataset = PCA_Feat(x=x_test, y=y_test)\n",
        "test_loader = DataLoader(dataset=test_dataset, batch_size= batch_size)\n",
        "\n",
        "# Initialize the network\n",
        "model = NN().to(device)\n",
        "\n",
        "\n",
        "# Loss and optimizer\n",
        "criterion = nn.CrossEntropyLoss()\n",
        "optimizer = optim.Adam(model.parameters(), lr=learning_rate)"
      ],
      "metadata": {
        "id": "giAPdGmUBImf"
      },
      "execution_count": null,
      "outputs": []
    },
    {
      "cell_type": "code",
      "source": [
        "# Train the network\n",
        "for epoch in range(num_epochs):\n",
        "    for batch_idx, (data, targets) in enumerate(train_loader):\n",
        "        # get data to cuda\n",
        "        data = data.to(device)\n",
        "        targets = targets.to(device)\n",
        "\n",
        "        # # # get data to proper shape\n",
        "        # data = data.reshape(data.shape[0], -1)\n",
        "\n",
        "        # forward\n",
        "        scores = model(data)\n",
        "        loss = criterion(scores, targets)\n",
        "\n",
        "        # backward\n",
        "        optimizer.zero_grad() #set all gradients to zero for each batch\n",
        "        loss.backward()\n",
        "\n",
        "        # gradient descend or adam step\n",
        "        optimizer.step()"
      ],
      "metadata": {
        "id": "PQW1fEDzBFHP"
      },
      "execution_count": null,
      "outputs": []
    },
    {
      "cell_type": "code",
      "source": [
        "# check accuracy on training & test set\n",
        "def check_accuracy(loader, model):\n",
        "    num_correct = 0\n",
        "    num_samples = 0\n",
        "    model.eval()\n",
        "\n",
        "    with torch.no_grad():\n",
        "        for x, y in loader:\n",
        "            x = x.to(device= device)\n",
        "            y = y.to(device= device)\n",
        "\n",
        "            scores = model(x)\n",
        "            _, predictions = scores.max(1)\n",
        "            num_correct += (predictions == y).sum()\n",
        "            num_samples += predictions.size(0)\n",
        "\n",
        "        print(f\"Got {num_correct}/{num_samples} with accuracy {(float(num_correct)/float(num_samples))*100:.2f}\")\n",
        "        model.train()"
      ],
      "metadata": {
        "id": "fVAAZIq__4v5"
      },
      "execution_count": null,
      "outputs": []
    },
    {
      "cell_type": "code",
      "source": [
        "check_accuracy(train_loader, model)"
      ],
      "metadata": {
        "id": "it18QA8yBLtj",
        "colab": {
          "base_uri": "https://localhost:8080/"
        },
        "outputId": "0d5c05cb-cf8f-4224-da46-70add2cb47da"
      },
      "execution_count": null,
      "outputs": [
        {
          "output_type": "stream",
          "name": "stdout",
          "text": [
            "Got 2261/4407 with accuracy 51.30\n"
          ]
        }
      ]
    },
    {
      "cell_type": "code",
      "source": [
        "check_accuracy(test_loader, model)"
      ],
      "metadata": {
        "id": "QO36FRaOBLqu",
        "colab": {
          "base_uri": "https://localhost:8080/"
        },
        "outputId": "8d9b6b58-c282-4bab-e7df-e0397596e944"
      },
      "execution_count": null,
      "outputs": [
        {
          "output_type": "stream",
          "name": "stdout",
          "text": [
            "Got 972/1890 with accuracy 51.43\n"
          ]
        }
      ]
    },
    {
      "cell_type": "code",
      "source": [
        ""
      ],
      "metadata": {
        "id": "f8PAit4DyztC"
      },
      "execution_count": null,
      "outputs": []
    }
  ]
}